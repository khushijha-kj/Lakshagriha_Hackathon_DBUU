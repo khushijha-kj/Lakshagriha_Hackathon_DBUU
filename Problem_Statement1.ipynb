{
 "cells": [
  {
   "cell_type": "markdown",
   "id": "49dc1d72",
   "metadata": {},
   "source": [
    "# Problem statement 1\n",
    "\n",
    "Predict the U.S. population using a linear model trained on historical population data from the \"World Indicators\" dataset. Forecast the population for the year 2015 based on the trend."
   ]
  },
  {
   "cell_type": "code",
   "execution_count": 3,
   "id": "8a92cfcd",
   "metadata": {},
   "outputs": [
    {
     "name": "stdout",
     "output_type": "stream",
     "text": [
      "<class 'pandas.core.frame.DataFrame'>\n",
      "RangeIndex: 2691 entries, 0 to 2690\n",
      "Data columns (total 27 columns):\n",
      " #   Column                  Non-Null Count  Dtype  \n",
      "---  ------                  --------------  -----  \n",
      " 0   Country/Region          2691 non-null   object \n",
      " 1   Region                  2691 non-null   object \n",
      " 2   Year                    2691 non-null   int64  \n",
      " 3   Birth Rate              2572 non-null   float64\n",
      " 4   Business Tax Rate       1423 non-null   float64\n",
      " 5   CO2 Emissions           2125 non-null   float64\n",
      " 6   Days to Start Business  1718 non-null   float64\n",
      " 7   Ease of Business        185 non-null    float64\n",
      " 8   Energy Usage            1785 non-null   float64\n",
      " 9   GDP                     2494 non-null   float64\n",
      " 10  Health Exp % GDP        2395 non-null   float64\n",
      " 11  Health Exp/Capita       2395 non-null   float64\n",
      " 12  Hours to do Tax         1416 non-null   float64\n",
      " 13  Infant Mortality Rate   2444 non-null   float64\n",
      " 14  Internet Usage          2518 non-null   float64\n",
      " 15  Lending Interest        1880 non-null   float64\n",
      " 16  Life Expectancy Female  2555 non-null   float64\n",
      " 17  Life Expectancy Male    2555 non-null   float64\n",
      " 18  Mobile Phone Usage      2531 non-null   float64\n",
      " 19  Number of Records       2691 non-null   int64  \n",
      " 20  Population 0-14         2471 non-null   float64\n",
      " 21  Population 15-64        2471 non-null   float64\n",
      " 22  Population 65+          2471 non-null   float64\n",
      " 23  Population Total        2691 non-null   int64  \n",
      " 24  Population Urban        2665 non-null   float64\n",
      " 25  Tourism Inbound         2325 non-null   float64\n",
      " 26  Tourism Outbound        2222 non-null   float64\n",
      "dtypes: float64(22), int64(3), object(2)\n",
      "memory usage: 567.8+ KB\n",
      "None\n",
      "  Country/Region  Region  Year  Birth Rate  Business Tax Rate  CO2 Emissions  \\\n",
      "0        Algeria  Africa  2000       0.020                NaN        87931.0   \n",
      "1         Angola  Africa  2000       0.050                NaN         9542.0   \n",
      "2          Benin  Africa  2000       0.043                NaN         1617.0   \n",
      "3       Botswana  Africa  2000       0.027                NaN         4276.0   \n",
      "4   Burkina Faso  Africa  2000       0.046                NaN         1041.0   \n",
      "\n",
      "   Days to Start Business  Ease of Business  Energy Usage           GDP  ...  \\\n",
      "0                     NaN               NaN       26998.0  5.479006e+10  ...   \n",
      "1                     NaN               NaN        7499.0  9.129595e+09  ...   \n",
      "2                     NaN               NaN        1983.0  2.359122e+09  ...   \n",
      "3                     NaN               NaN        1836.0  5.788312e+09  ...   \n",
      "4                     NaN               NaN           NaN  2.610959e+09  ...   \n",
      "\n",
      "   Life Expectancy Male  Mobile Phone Usage  Number of Records  \\\n",
      "0                  67.0               0.003                  1   \n",
      "1                  44.0               0.002                  1   \n",
      "2                  53.0               0.008                  1   \n",
      "3                  49.0               0.127                  1   \n",
      "4                  49.0               0.002                  1   \n",
      "\n",
      "   Population 0-14  Population 15-64  Population 65+  Population Total  \\\n",
      "0            0.342             0.619           0.039          31719449   \n",
      "1            0.476             0.499           0.025          13924930   \n",
      "2            0.454             0.517           0.029           6949366   \n",
      "3            0.383             0.587           0.029           1755375   \n",
      "4            0.468             0.505           0.028          11607944   \n",
      "\n",
      "   Population Urban  Tourism Inbound  Tourism Outbound  \n",
      "0             0.599      102000000.0       193000000.0  \n",
      "1             0.324       34000000.0       146000000.0  \n",
      "2             0.383       77000000.0        50000000.0  \n",
      "3             0.532      227000000.0       209000000.0  \n",
      "4             0.178       23000000.0        30000000.0  \n",
      "\n",
      "[5 rows x 27 columns]\n"
     ]
    }
   ],
   "source": [
    "# Importing the necessary libraries\n",
    "import pandas as pd\n",
    "import statsmodels.api as sm\n",
    "import matplotlib.pyplot as plt\n",
    "import seaborn as sns\n",
    "\n",
    "# Load the dataset\n",
    "df = pd.read_csv('World Indicators.csv')\n",
    "\n",
    "#visualize the key points in data so that if anyone is reading it for the first time he's able to get it\n",
    "\n",
    "# Display basic information about the dataset\n",
    "print(df.info())\n",
    "\n",
    "# Display the first few rows of the dataset\n",
    "print(df.head())\n",
    "\n"
   ]
  },
  {
   "cell_type": "code",
   "execution_count": null,
   "id": "3895f733",
   "metadata": {},
   "outputs": [],
   "source": []
  }
 ],
 "metadata": {
  "kernelspec": {
   "display_name": ".venv",
   "language": "python",
   "name": "python3"
  },
  "language_info": {
   "codemirror_mode": {
    "name": "ipython",
    "version": 3
   },
   "file_extension": ".py",
   "mimetype": "text/x-python",
   "name": "python",
   "nbconvert_exporter": "python",
   "pygments_lexer": "ipython3",
   "version": "3.12.3"
  }
 },
 "nbformat": 4,
 "nbformat_minor": 5
}
